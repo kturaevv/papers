{
 "cells": [
  {
   "cell_type": "code",
   "execution_count": null,
   "metadata": {
    "vscode": {
     "languageId": "plaintext"
    }
   },
   "outputs": [],
   "source": [
    "### Reducing the Dimensionality of Data with Neural Networks\n",
    "\n",
    "This paper introduces Autoencoders, the way to \"encode\" high dimensional data in lower dimensional space and using this \"compressed\" data\n",
    "to reconstruct the original image. Basically precursors to modern generative models. The main problem was the inability of \"plain\" networks \n",
    "to work from the get go. To address this authors used \"pretrained\" network regularization with RBM's.\n",
    "\n",
    "Paper highlights:\n",
    " - AE significantly outperformed PCA on dimensionality reduction tasks\n",
    " - First demonstration that deep autoencoders can learn meaningful compressed representations of complex data\n",
    " - Hinted on the importance of depth (deeper autoencoders yielded better results with same parameter count)\n",
    " - Introduced RBM-based pretraining as a solution to the network weight normalization problem\n",
    " - Showed that proper weight initialization through pretraining prevents networks from getting stuck in poor local optima\n",
    " - Proved that pretraining dramatically improves both final results and training convergence speed\n",
    " - Demonstrated diminishing returns of network depth - adding layers helps but with diminishing impact\n",
    " - Successfully applied AEs to document retrieval, outperforming LSA/PCA-based semantic search"
   ]
  }
 ],
 "metadata": {
  "language_info": {
   "name": "python"
  }
 },
 "nbformat": 4,
 "nbformat_minor": 2
}
