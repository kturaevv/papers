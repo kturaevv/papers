{
 "cells": [
  {
   "cell_type": "markdown",
   "metadata": {},
   "source": [
    "# Learning representations by back-propagating errors\n",
    "\n",
    "---\n",
    "**Quick summary:** *paper that introduced and popularized the concept of backpropagation for Neural Networks*\n",
    "\n",
    "> The task is specified by giving the desired state vector of the output units for each state vector of the input units\n",
    "\n",
    "Quite convoluted way of saying that to make a network train we need to provide it the intput data with corresponding output we hope to achieve, i.e. a supervised learning. In other words, to map inputs to the outputs with the data.\n",
    "\n",
    "> ... state of the units in each layer are determined by applying equations (1) and (2) ...\n",
    "\n",
    "Description of how Neural Networks work, i.e. every output of a layer should correspond to every input node of next layer. And layers are pieced together by a linking linear function with non-linearity.\n",
    "\n",
    "A Unit consist of 2 values which is a **weight** and a **bias**. In a modern terminology this is reffered to as a *Neuron*\n",
    "\n",
    "> The total input, $x_{j}$ to unit j is a linear function of the outputs,\n",
    "> $y_{i}$ of the units that are connected to j and of the weights, $w_{ji}$\n",
    "> on these connections $$ x_{j} = \\sum_{i}y_{i}w_{ji} $$\n",
    "\n",
    "... the states of the \"units\", aka Neurons, are evaluated by the linear relation of inputs, which means that an output of neuron $x_{j}$, is a sum of weights of every input to every weight of the Neuron:\n",
    "\n",
    "```python\n",
    "    def __call__(self, y: \"Units\") -> \"Units\":\n",
    "        x_j = sum(y_i * w_ji for y_i, w_ji in zip(y.w, self.w))\n",
    "        return x_j\n",
    "```\n",
    "\n",
    "> A unit has a real-valued output, $y_{j}$ which is a non-linear function of its total input $$ y_{j} = {1 \\over 1 + e^{-x_{j}} }$$\n",
    "\n",
    "This is the non-linearity that makes the network learn stuff, which is commonly reffered to as *activation function*. The one mentioned in the paper is *Sigmoid activation function*.\n",
    "\n",
    "```python\n",
    "    def sigmoid(self) -> \"Scalar\":\n",
    "        return 1 / (1 + math.exp(-self.w))\n",
    "\n",
    "    def __call__(self, y: \"Units\") -> \"Units\":\n",
    "        x_j = sum(y_i * w_ji for y_i, w_ji in zip(y.w, self.w))\n",
    "        out = x_j.sigmoid() # add non-linearity\n",
    "        return out\n",
    "```\n",
    "\n",
    "Based on above mentioned ideas it is enough to \"build\" the basic implementation for a simplest, non-optimized neural network, featuring:\n",
    "- Scalar: the most basic building block of a Neural network\n",
    "- Units: aka Neurons\n",
    "- State Vector: aka Tensor"
   ]
  },
  {
   "cell_type": "code",
   "execution_count": 133,
   "metadata": {},
   "outputs": [
    {
     "data": {
      "text/plain": [
       "[Scalar(data=0.9988252705852085)]"
      ]
     },
     "execution_count": 133,
     "metadata": {},
     "output_type": "execute_result"
    }
   ],
   "source": [
    "from autodiff.nn import NeuralNetwork, StateVector\n",
    "\n",
    "MLP = NeuralNetwork([\n",
    "    StateVector(2, 10),\n",
    "    StateVector(10, 1)\n",
    "])\n",
    "MLP([1, 1])"
   ]
  },
  {
   "cell_type": "markdown",
   "metadata": {},
   "source": [
    "> The aim is to find a set of weights that ensure that for each\n",
    "> input vector the output vector produced by the network is the\n",
    "> same as (or sufficiently close to) the desired output vector. If\n",
    "> there is a fixed, finite set of input-output cases, the total error\n",
    "> inthe performance ofthe network with a particular set of weights\n",
    "> can be computed by comparing the actual and desired output\n",
    "> vectors for every case. The total error E, is defined as:\n",
    "> $$ \\dfrac{1}{2} \\sum_{c} \\sum_{j} (y_{j,c} - d_{j,c})^2 $$\n",
    "\n",
    "One of the most fundamental parats of the learning purpose - loss function. Nothing to add, the description is pretty self explanotory. \n",
    "\n",
    "In simple words the idea is to calculate the difference between the output of a network and a desired state.\n",
    "\n",
    "Let's say we want to find the function that can differentiate between these 2 clusters.  "
   ]
  },
  {
   "cell_type": "code",
   "execution_count": 134,
   "metadata": {},
   "outputs": [
    {
     "data": {
      "image/png": "[encoded data removed]",
      "text/plain": [
       "<Figure size 600x400 with 1 Axes>"
      ]
     },
     "metadata": {},
     "output_type": "display_data"
    }
   ],
   "source": [
    "import matplotlib.colors as mcolors\n",
    "import matplotlib.pyplot as plt\n",
    "import numpy as np\n",
    "import random\n",
    "\n",
    "# Generating two distinct clusters of data points\n",
    "np.random.seed(0)\n",
    "\n",
    "# Generating the specified clusters again to form a dataset for training a neural network classifier\n",
    "cluster_1 = np.random.normal(loc=[2, 2], scale=[0.5, 0.5], size=(30, 2))\n",
    "cluster_2 = np.random.normal(loc=[-2, -2], scale=[0.5, 0.5], size=(30, 2))\n",
    "\n",
    "# Concatenating both clusters into a single dataset\n",
    "X = np.concatenate([cluster_1, cluster_2], axis=0)\n",
    "# Creating labels for the clusters (e.g., 0 for cluster_1, 1 for cluster_2)\n",
    "Y = np.concatenate([np.zeros(30), np.ones(30)])\n",
    "\n",
    "# Plotting the dataset with labels\n",
    "plt.figure(figsize=(6, 4))\n",
    "plt.scatter(X[Y == 0][:, 0], X[Y == 0][:, 1], color='orange', label='Cluster 1')\n",
    "plt.scatter(X[Y == 1][:, 0], X[Y == 1][:, 1], color='blue', label='Cluster 2')\n",
    "plt.title('Training Dataset for Neural Network Classifier')\n",
    "plt.xlabel('Feature 1')\n",
    "plt.ylabel('Feature 2')\n",
    "plt.legend()\n",
    "plt.grid(True)\n",
    "plt.show()\n"
   ]
  },
  {
   "cell_type": "markdown",
   "metadata": {},
   "source": [
    "With neural network it is our task to find a state of a network such that it can transform an input $x$ to the desired out put of $y$, i.e.:\n",
    "\n",
    "$$ x \\rightarrow NN \\rightarrow y $$\n"
   ]
  },
  {
   "cell_type": "markdown",
   "metadata": {},
   "source": [
    "The goal of an error is to calculate the difference between output and expected value. This error will dictate how much the weights should be updated and kick off the backpropagation process. This is also an indicator of the model efficiency:"
   ]
  },
  {
   "cell_type": "code",
   "execution_count": 135,
   "metadata": {},
   "outputs": [
    {
     "name": "stdout",
     "output_type": "stream",
     "text": [
      "Total Error:  Scalar(data=30.067798858115548)\n"
     ]
    }
   ],
   "source": [
    "preds = [MLP(i).pop() for i in X]\n",
    "total_error = sum([(y_true - y_pred) ** 2 for y_true, y_pred in zip(Y, preds)])\n",
    "print(\"Total Error: \", total_error)"
   ]
  },
  {
   "cell_type": "markdown",
   "metadata": {},
   "source": [
    "As it can be observerd the total error is pretty high as the network weights are randomized, and thus so are the outputs.\n",
    "\n",
    "> To minimize & by gradient descent\n",
    "> it is necessary to compute the partial derivative of E with respect\n",
    "> to each weight in the network.\n",
    "\n",
    "The learning process starts with the Error and this value affects the gradient's magnitude of a whole network. This holds true as backpropagation starts from the latest node in a computational graph and works its way backwards. It computes derivatives and propagates them backward through the network, hence the naming \"backpropagation\".\n",
    "\n",
    "In a modern Deep Neural network libraries Value differentiation is handled automatically by the network. This is possible because any computation can be represented as a graph. With operations represented as nodes by defining the rule for each type of node, i.e. an operation like \"+\" or \"-\", it is as well possible to set the rule for a backward pass, i.e. differentiation. With this, each value shall have the information regarding its \"parents\" and it becomes possible to apply chain rule to whole network from top to bottom iteratively.\n",
    "\n",
    "To implement this the most basic building block should be trackable - `Scalar`. To actually implement this we need to add some properties to enable the graph connections in the `Scalar` class defined before. With this feature in place calculating gradients becomes very easy, as each scalar instance can calculate gradient for itself.\n",
    "\n",
    "In the implementation, there are 3 main operations, i.e. $+$, $*$, $**$, which implement its own backprop method:\n",
    "```python\n",
    "def _backward(prev: tuple[\"Scalar\", \"Scalar\"], d_out) -> tuple[float]:\n",
    "    lval, rval = prev\n",
    "    return rval.data * d_out, lval.data * d_out\n",
    "```\n",
    "\n",
    "All other operations like $-$ is implemented by reusing established base primitives with addition and multiplication.\n",
    "\n",
    "All of this information is then used in a backpropagation step using the chain rule, like this:\n",
    "```python\n",
    "for scalar, grad in zip(node.prev, node._backward(node.prev, deriv)):\n",
    "    scalar.grad += grad\n",
    "```\n",
    "\n",
    "For additional details refere to implementation code at [model.py](./autodiff/model.py)"
   ]
  },
  {
   "cell_type": "code",
   "execution_count": 171,
   "metadata": {},
   "outputs": [
    {
     "name": "stdout",
     "output_type": "stream",
     "text": [
      "Error:  27.3598716\n",
      "Error:  6.6910630\n",
      "Error:  2.6713025\n",
      "Error:  1.1942969\n",
      "Error:  0.7094908\n",
      "Error:  0.5932198\n"
     ]
    }
   ],
   "source": [
    "random.seed(111)\n",
    "\n",
    "n_input = 2\n",
    "n_output = 1\n",
    "n_hidden = 8\n",
    "\n",
    "MLP = NeuralNetwork([\n",
    "    StateVector(n_input, n_hidden),\n",
    "    StateVector(n_hidden, n_hidden),\n",
    "    StateVector(n_hidden, n_hidden),\n",
    "    StateVector(n_hidden, n_output)\n",
    "])\n",
    "\n",
    "errors = []\n",
    "\n",
    "EPOCHS = 30\n",
    "for epoch in range(EPOCHS):\n",
    "\n",
    "    error = 0\n",
    "    for i in range(len(X)):\n",
    "        y_pred = MLP(X[i]).pop()\n",
    "        y_pred = y_pred * 0 if y_pred.data < 0.5 else y_pred # clip\n",
    "        error += (-Y[i] + y_pred) ** 2\n",
    "\n",
    "    for p in MLP.parameters():\n",
    "        p.grad = 0.0 # reset gradients\n",
    "\n",
    "    error.backward() # accumulate gradients\n",
    "\n",
    "    for p in MLP.parameters():\n",
    "        p.data += -0.001 * p.grad # update weights\n",
    "\n",
    "    errors.append(error.data)\n",
    "    if epoch % 5 == 0:\n",
    "        print(\"Error: \", \"{:.7f}\".format(error.data)) "
   ]
  },
  {
   "cell_type": "code",
   "execution_count": 172,
   "metadata": {},
   "outputs": [
    {
     "data": {
      "image/png": "[encoded data removed]",
      "text/plain": [
       "<Figure size 600x200 with 1 Axes>"
      ]
     },
     "metadata": {},
     "output_type": "display_data"
    }
   ],
   "source": [
    "# Error plot\n",
    "fig, ax = plt.subplots(figsize=(6, 2))\n",
    "ax.set_xlim(0, len(errors))\n",
    "ax.set_ylim(0, max(errors))\n",
    "ax.set_xlabel(\"epochs\")\n",
    "ax.set_ylabel(\"Total error\")\n",
    "ax.set_title(\"Error\")\n",
    "\n",
    "err_line, = ax.plot(errors, label='Total error', color='red')"
   ]
  },
  {
   "cell_type": "markdown",
   "metadata": {},
   "source": [
    "*Note: this implementation is not stable as Scalar does not implement neither regularization / normalization nor proper weight initialization commonly seen in modern networks, thus, training progress will differ noticeably from run to run withhout specifying random seed.*"
   ]
  }
 ],
 "metadata": {
  "kernelspec": {
   "display_name": "torch",
   "language": "python",
   "name": "python3"
  },
  "language_info": {
   "codemirror_mode": {
    "name": "ipython",
    "version": 3
   },
   "file_extension": ".py",
   "mimetype": "text/x-python",
   "name": "python",
   "nbconvert_exporter": "python",
   "pygments_lexer": "ipython3",
   "version": "3.11.5"
  }
 },
 "nbformat": 4,
 "nbformat_minor": 2
}
